{
 "cells": [
  {
   "cell_type": "code",
   "execution_count": 3,
   "metadata": {},
   "outputs": [
    {
     "name": "stdout",
     "output_type": "stream",
     "text": [
      "enter the total no:5\n",
      "4\n",
      "3\n",
      "5\n",
      "2\n",
      "6\n",
      "Number of even numbers : 3\n",
      "Number of odd numbers : 2\n"
     ]
    }
   ],
   "source": [
    "n=int(input(\"enter the total no:\"))\n",
    "odd=0\n",
    "even=0\n",
    "for i in range(0,n):\n",
    "    m=int(input())\n",
    "    if not i % 2:\n",
    "        even+=1\n",
    "    else:\n",
    "        odd+=1\n",
    "print(\"Number of even numbers :\",even)\n",
    "print(\"Number of odd numbers :\",odd)"
   ]
  }
 ],
 "metadata": {
  "kernelspec": {
   "display_name": "Python 3",
   "language": "python",
   "name": "python3"
  },
  "language_info": {
   "codemirror_mode": {
    "name": "ipython",
    "version": 3
   },
   "file_extension": ".py",
   "mimetype": "text/x-python",
   "name": "python",
   "nbconvert_exporter": "python",
   "pygments_lexer": "ipython3",
   "version": "3.7.6"
  }
 },
 "nbformat": 4,
 "nbformat_minor": 4
}
